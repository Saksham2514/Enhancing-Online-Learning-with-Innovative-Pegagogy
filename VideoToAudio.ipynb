{
 "cells": [
  {
   "cell_type": "code",
   "execution_count": 1,
   "metadata": {},
   "outputs": [
    {
     "name": "stderr",
     "output_type": "stream",
     "text": [
      "D:\\anacontda\\lib\\site-packages\\pydub\\utils.py:170: RuntimeWarning: Couldn't find ffmpeg or avconv - defaulting to ffmpeg, but may not work\n",
      "  warn(\"Couldn't find ffmpeg or avconv - defaulting to ffmpeg, but may not work\", RuntimeWarning)\n",
      "chunk:   1%|▋                                                             | 38/3310 [00:00<00:08, 376.31it/s, now=None]"
     ]
    },
    {
     "name": "stdout",
     "output_type": "stream",
     "text": [
      "MoviePy - Writing audio in video_result.wav\n"
     ]
    },
    {
     "name": "stderr",
     "output_type": "stream",
     "text": [
      "                                                                                                                       \r"
     ]
    },
    {
     "name": "stdout",
     "output_type": "stream",
     "text": [
      "MoviePy - Done.\n",
      "Loading .............................................................................................................................................................Importance of reading. Speech for higher secondary students. Good morning respected teachers and my dear friends. Today i am standing before you to express my views about importance of reading. Reading is a habit that can make us all a better person. Reading gives us knowledge and inspiration it makes a smart. There are numerous examples of great people who emphasize on reading for a good and successful life. Reading exposes our mind to a great treasure of ideas and thoughts. People share their experiences in life and work through books. Reading such books can be of great help. Reading novels biographies stories poems except ram entertainers it helps to relax away mind. We try to visualise waterbury. This definitely is a healthy exercise for our mind. Reading improves our concentration power it improves our emotional health to. Reading books can make us feel happy sad love and so on. Ultimately a good book helps us grow emotionally. When we read books we remember a lot of things like name of the characters places important events and conversations. This helps to improve our memory apart from this we also learn many new words which improve our vocabulary and hence our communication skills. When we read books we stay engaged in it. Mixed in the present moment and forget past bad memories. This helps to reduce stress. Books are one of the most powerful things in the world they offers new opportunities to gain knowledge grow and be inspired. Good books are like a great investment. If we read them we get an overview of great thoughts and experiences. With so many benefits reading is certainly a good habit we all must inculcate it in our lives. Once we develop this habit we can never get bored. It was really a good way of personal growth. And development. With this i conclude my speech. Thank you. Thanks for watching. \n"
     ]
    }
   ],
   "source": [
    "# importing libraries \n",
    "import speech_recognition as sr \n",
    "import os \n",
    "from pydub import AudioSegment\n",
    "from pydub.silence import split_on_silence\n",
    "import moviepy.editor as mp\n",
    "# create a speech recognition object\n",
    "r = sr.Recognizer()\n",
    "\n",
    "def get_large_audio_transcription(path1):\n",
    "    \"\"\"\n",
    "    Splitting the large audio file into chunks\n",
    "    and apply speech recognition on each of these chunks\n",
    "    \"\"\"\n",
    "    my_clip = mp.VideoFileClip(path1)\n",
    "    my_clip.audio.write_audiofile(r\"video_result.wav\")\n",
    "    path = \"video_result.wav\"\n",
    "    \n",
    "    \n",
    "    # open the audio file using pydub\n",
    "    sound = AudioSegment.from_wav(path)  \n",
    "    # split audio sound where silence is 700 miliseconds or more and get chunks\n",
    "    chunks = split_on_silence(sound,\n",
    "        # experiment with this value for your target audio file\n",
    "        min_silence_len = 500,\n",
    "        # adjust this per requirement\n",
    "        silence_thresh = sound.dBFS-14,\n",
    "        # keep the silence for 1 second, adjustable as well\n",
    "        keep_silence=500,\n",
    "    )\n",
    "    folder_name = \"audio-chunks\"\n",
    "    # create a directory to store the audio chunks\n",
    "    if not os.path.isdir(folder_name):\n",
    "        os.mkdir(folder_name)\n",
    "    whole_text = \"\"\n",
    "    print(\"Loading ..\",sep=\"\",end=\"\");\n",
    "    # process each chunk \n",
    "    for i, audio_chunk in enumerate(chunks, start=1):\n",
    "        # export audio chunk and save it in\n",
    "        # the `folder_name` directory.\n",
    "        chunk_filename = os.path.join(folder_name, f\"chunk{i}.wav\")\n",
    "        audio_chunk.export(chunk_filename, format=\"wav\")\n",
    "        # recognize the chunk\n",
    "        with sr.AudioFile(chunk_filename) as source:\n",
    "            audio_listened = r.record(source)\n",
    "            # try converting it to text\n",
    "            try:\n",
    "                text = r.recognize_google(audio_listened)\n",
    "                print(\"....\",sep=\".\",end=\".\")\n",
    "            except sr.UnknownValueError as e:\n",
    "                print()\n",
    "            else:\n",
    "                text = f\"{text.capitalize()}. \"\n",
    "                whole_text += text\n",
    "    # return the text for all chunks detected\n",
    "    return whole_text\n",
    "\n",
    "#path = input(\"Enter file name or full path to convert \");\n",
    "path =\"sample_to_convert.mp4\";\n",
    "if os.path.isfile(path):\n",
    "    file = open(\"transcriptions.txt\",\"w\")\n",
    "    transcriptions = get_large_audio_transcription(path)\n",
    "    file.write(transcriptions)\n",
    "    print(\"\\n\"+transcriptions)\n",
    "    file.close()\n",
    "    \n",
    "else : print(f\"FILE NOT FOUND!! Please verify provided file name / path is correct: {path}\")\n",
    "\n"
   ]
  }
 ],
 "metadata": {
  "kernelspec": {
   "display_name": "Python 3",
   "language": "python",
   "name": "python3"
  },
  "language_info": {
   "codemirror_mode": {
    "name": "ipython",
    "version": 3
   },
   "file_extension": ".py",
   "mimetype": "text/x-python",
   "name": "python",
   "nbconvert_exporter": "python",
   "pygments_lexer": "ipython3",
   "version": "3.8.3"
  }
 },
 "nbformat": 4,
 "nbformat_minor": 4
}
